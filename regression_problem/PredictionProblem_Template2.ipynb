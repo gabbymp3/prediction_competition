{
 "cells": [
  {
   "cell_type": "raw",
   "id": "5dbbea0e-3a99-459e-abd6-0959e6946869",
   "metadata": {},
   "source": [
    "---\n",
    "title: \"Prediction Problem\"\n",
    "subtitle: \"STAT 303-3 Spring 25\"\n",
    "format: \n",
    "  html:\n",
    "    toc: true\n",
    "    toc-title: Contents\n",
    "    code-fold: show\n",
    "    embed-resources: true\n",
    "jupyter: python3\n",
    "---"
   ]
  },
  {
   "cell_type": "markdown",
   "id": "7ec7523b-6099-4001-a997-60005980e73a",
   "metadata": {},
   "source": [
    "## Instructions:\n",
    "\n",
    "- Put the parts of your code under the corresponding sections. (0.25/2 points will be taken off for not doing this.)\n",
    "- Do not include any redundant/irrelevant code, text or comments. (0.5/2 points will be taken off for not doing this.)\n",
    "- **Your code must run without any errors or runtime issues.** (Failure to meet this condition will result in a 0.)\n",
    "- **Your code must return your Public Leaderboard score.** (Failure to meet this condition will result in a 0.)"
   ]
  },
  {
   "cell_type": "markdown",
   "id": "03031cca-1a24-4e66-926e-2b32f85f3cc7",
   "metadata": {},
   "source": [
    "## 1) Libraries"
   ]
  },
  {
   "cell_type": "markdown",
   "id": "6d65f439-927b-4b40-9008-a715356fbe58",
   "metadata": {},
   "source": [
    "Put all the Python libraries and tools you imported here."
   ]
  },
  {
   "cell_type": "code",
   "execution_count": 67,
   "id": "9eb866b1-8f62-4ca4-a39e-5774486da357",
   "metadata": {},
   "outputs": [],
   "source": [
    "import pandas as pd\n",
    "import numpy as np\n",
    "from sklearn import metrics, impute\n",
    "from sklearn.impute import KNNImputer\n",
    "\n",
    "from sklearn.preprocessing import StandardScaler\n",
    "from sklearn.metrics import mean_absolute_error\n",
    "from statsmodels.stats.outliers_influence import variance_inflation_factor\n",
    "from statsmodels.tools.tools import add_constant\n",
    "from sklearn.neighbors import KNeighborsRegressor"
   ]
  },
  {
   "cell_type": "markdown",
   "id": "1877d116-1e8d-426e-84ba-10c47e28a1ac",
   "metadata": {},
   "source": [
    "## 2) Data"
   ]
  },
  {
   "cell_type": "markdown",
   "id": "177363af-51a7-4b16-b6d2-33ba5796bd20",
   "metadata": {},
   "source": [
    "- This section is required to include the code that reads, cleans and preprocesses the datasets.\n",
    "- Note that both the training and test datasets should undergo the same sequence of operations."
   ]
  },
  {
   "cell_type": "code",
   "execution_count": 71,
   "id": "ddcc4a5b-777a-4b75-8fd7-b0594591ea8d",
   "metadata": {},
   "outputs": [
    {
     "data": {
      "text/plain": [
       "id                                                int64\n",
       "listing_location                                 object\n",
       "description                                      object\n",
       "host_since                                       object\n",
       "host_location                                    object\n",
       "host_about                                       object\n",
       "host_response_time                               object\n",
       "host_response_rate                               object\n",
       "host_acceptance_rate                             object\n",
       "host_neighbourhood                               object\n",
       "host_listings_count                             float64\n",
       "host_total_listings_count                       float64\n",
       "host_verifications                               object\n",
       "host_has_profile_pic                             object\n",
       "host_identity_verified                           object\n",
       "neighbourhood_cleansed                           object\n",
       "latitude                                        float64\n",
       "longitude                                       float64\n",
       "property_type                                    object\n",
       "room_type                                        object\n",
       "accommodates                                      int64\n",
       "bathrooms_text                                   object\n",
       "bedrooms                                        float64\n",
       "beds                                            float64\n",
       "amenities                                        object\n",
       "price                                            object\n",
       "minimum_nights                                    int64\n",
       "maximum_nights                                    int64\n",
       "minimum_minimum_nights                            int64\n",
       "maximum_minimum_nights                            int64\n",
       "minimum_maximum_nights                            int64\n",
       "maximum_maximum_nights                            int64\n",
       "minimum_nights_avg_ntm                          float64\n",
       "maximum_nights_avg_ntm                          float64\n",
       "has_availability                                 object\n",
       "availability_30                                   int64\n",
       "availability_60                                   int64\n",
       "availability_90                                   int64\n",
       "availability_365                                  int64\n",
       "number_of_reviews                                 int64\n",
       "number_of_reviews_ltm                             int64\n",
       "number_of_reviews_l30d                            int64\n",
       "first_review                                     object\n",
       "last_review                                      object\n",
       "review_scores_rating                            float64\n",
       "review_scores_accuracy                          float64\n",
       "review_scores_cleanliness                       float64\n",
       "review_scores_checkin                           float64\n",
       "review_scores_communication                     float64\n",
       "review_scores_location                          float64\n",
       "review_scores_value                             float64\n",
       "instant_bookable                                   bool\n",
       "calculated_host_listings_count                    int64\n",
       "calculated_host_listings_count_entire_homes       int64\n",
       "calculated_host_listings_count_private_rooms      int64\n",
       "calculated_host_listings_count_shared_rooms       int64\n",
       "reviews_per_month                               float64\n",
       "dtype: object"
      ]
     },
     "execution_count": 71,
     "metadata": {},
     "output_type": "execute_result"
    }
   ],
   "source": [
    "test = pd.read_csv('test.csv')\n",
    "train = pd.read_csv('train.csv')\n",
    "\n",
    "train.dtypes"
   ]
  },
  {
   "cell_type": "markdown",
   "id": "327ccd4d-ed90-4683-b818-01786b379fcc",
   "metadata": {},
   "source": [
    "### Cleaning\n",
    "\n",
    "1. drop unecessary cols - same in both\n",
    "   1. VIF cols, room_type, \n",
    "3. clean messy cols -- bathrooms_test, true/false to 1/0\n",
    "   1. bathrooms_text, host_identity_verified, property_type\n",
    "   2. description - luxury words\n",
    "4. OHE\n",
    "5. impute\n",
    "6. scale"
   ]
  },
  {
   "cell_type": "code",
   "execution_count": 74,
   "id": "29fdb0dc-9be1-49c6-a9a9-6cf90adadb4a",
   "metadata": {},
   "outputs": [],
   "source": [
    "# many cols determined as multicollinear with VIF vals above 8\n",
    "    # others just unecessary, too messy, too many categories, etc.\n",
    "\n",
    "\n",
    "cols_to_drop = ['has_availability', 'host_verifications', 'host_response_time',\n",
    "                'host_since', 'host_location', 'host_neighbourhood', 'host_has_profile_pic',\n",
    "                'neighbourhood_cleansed', 'first_review', 'last_review', 'room_type',\n",
    "                'amenities', 'host_about','minimum_minimum_nights', 'minimum_maximum_nights',\n",
    "                'maximum_maximum_nights', 'minimum_nights_avg_ntm', 'maximum_nights_avg_ntm',\n",
    "                'availability_30', 'availability_60', 'availability_90', 'calculated_host_listings_count']\n",
    "\n",
    "train = train.drop(cols_to_drop, axis=1)\n",
    "test = test.drop(cols_to_drop, axis=1)"
   ]
  },
  {
   "cell_type": "code",
   "execution_count": 76,
   "id": "3c5f7c07-f3a4-4dd3-b6f8-2da73ed005c8",
   "metadata": {},
   "outputs": [],
   "source": [
    "# clean $ and % from numeric cols\n",
    "\n",
    "def clean_cols(val):\n",
    "    if isinstance(val, str):\n",
    "        val = val.replace('$', '').replace('%', '').replace(',', '')\n",
    "    return float(val)\n",
    "\n",
    "train[['price','host_acceptance_rate','host_response_rate']] = train[['price','host_acceptance_rate','host_response_rate']].map(clean_cols)\n",
    "test[['host_acceptance_rate','host_response_rate']] = test[['host_acceptance_rate','host_response_rate']].map(clean_cols)"
   ]
  },
  {
   "cell_type": "code",
   "execution_count": 78,
   "id": "1f9fa0ae-caff-4670-85a4-f8dfde5fa190",
   "metadata": {},
   "outputs": [],
   "source": [
    "# clean bathrooms_text - convert half-bath to 0.5\n",
    "train['bathrooms_text'] = train['bathrooms_text'].replace('Half-bath', '0.5')\n",
    "test['bathrooms_text'] = test['bathrooms_text'].replace('Half-bath', '0.5')\n",
    "\n",
    "# extract numeric part\n",
    "train['bathrooms_text'] = train['bathrooms_text'].str.extract(r'(\\d+\\.?\\d*)')[0].astype(float)\n",
    "test['bathrooms_text'] = test['bathrooms_text'].str.extract(r'(\\d+\\.?\\d*)')[0].astype(float)\n",
    "\n",
    "test = test.rename(columns={'bathrooms_text': 'bathrooms'})\n",
    "train = train.rename(columns={'bathrooms_text': 'bathrooms'})\n"
   ]
  },
  {
   "cell_type": "code",
   "execution_count": 80,
   "id": "77019f6a-675f-4827-9164-b1f99aeb2052",
   "metadata": {},
   "outputs": [
    {
     "name": "stderr",
     "output_type": "stream",
     "text": [
      "/var/folders/yg/yd_rkzv93459x04g3jzsjwcr0000gn/T/ipykernel_52490/1847232823.py:7: FutureWarning: Downcasting object dtype arrays on .fillna, .ffill, .bfill is deprecated and will change in a future version. Call result.infer_objects(copy=False) instead. To opt-in to the future behavior, set `pd.set_option('future.no_silent_downcasting', True)`\n",
      "  train['host_identity_verified'] = train['host_identity_verified'].fillna(False).astype(int)\n",
      "/var/folders/yg/yd_rkzv93459x04g3jzsjwcr0000gn/T/ipykernel_52490/1847232823.py:8: FutureWarning: Downcasting object dtype arrays on .fillna, .ffill, .bfill is deprecated and will change in a future version. Call result.infer_objects(copy=False) instead. To opt-in to the future behavior, set `pd.set_option('future.no_silent_downcasting', True)`\n",
      "  test['host_identity_verified'] = test['host_identity_verified'].fillna(False).astype(int)\n"
     ]
    }
   ],
   "source": [
    "# host identity verified - convert to 0/1\n",
    "# instant bookable - convert to 0/1\n",
    "\n",
    "train['instant_bookable'] = train['instant_bookable'].fillna(False).astype(int)\n",
    "test['instant_bookable'] = test['instant_bookable'].fillna(False).astype(int)\n",
    "\n",
    "train['host_identity_verified'] = train['host_identity_verified'].fillna(False).astype(int)\n",
    "test['host_identity_verified'] = test['host_identity_verified'].fillna(False).astype(int)"
   ]
  },
  {
   "cell_type": "code",
   "execution_count": 82,
   "id": "4102b6d4-775b-410e-ad23-d0448a2ab4c2",
   "metadata": {},
   "outputs": [],
   "source": [
    "# property type -- make new col, 1 if entire property and 0 otherwise\n",
    "\n",
    "train['is_entire_place'] = train['property_type'].str.contains('entire', case=False, na=False).astype(int)\n",
    "test['is_entire_place'] = test['property_type'].str.contains('entire', case=False, na=False).astype(int)\n",
    "\n",
    "train = train.drop('property_type', axis=1)\n",
    "test = test.drop('property_type', axis=1)"
   ]
  },
  {
   "cell_type": "code",
   "execution_count": 84,
   "id": "cb8face1-ea3c-466e-a7ad-242579a12c39",
   "metadata": {},
   "outputs": [],
   "source": [
    "# description -- make new col, 1 if contains 'luxury' words\n",
    "\n",
    "keywords = ['luxury', 'luxurious', 'penthouse', 'exclusive', 'elegant',\n",
    "            'premium', 'high-end', 'designer', 'upscale', 'chic',\n",
    "            'modern', 'deluxe', 'sophisticated', 'breathtaking','custom-built', 'architect-designed',\n",
    "            'state-of-the-art','prestigious', 'top-tier', '5-star', 'five-star']\n",
    "\n",
    "pattern = '|'.join(keywords)\n",
    "train['luxury_description'] = train['description'].str.contains(pattern, case=False, na=False).astype(int)\n",
    "test['luxury_description'] = test['description'].str.contains(pattern, case=False, na=False).astype(int)\n",
    "\n",
    "train = train.drop('description', axis=1)\n",
    "test = test.drop('description', axis=1)"
   ]
  },
  {
   "cell_type": "code",
   "execution_count": 86,
   "id": "b1aed1a7-fb88-4ef8-8156-c8576ec361dc",
   "metadata": {},
   "outputs": [],
   "source": [
    "# OHE location\n",
    "\n",
    "location_dummies = pd.get_dummies(train['listing_location'], prefix='location', drop_first=True)\n",
    "train = pd.concat([train, location_dummies], axis=1).drop('listing_location', axis=1)\n",
    "\n",
    "location_dummies = pd.get_dummies(test['listing_location'], prefix='location', drop_first=True)\n",
    "test = pd.concat([test, location_dummies], axis=1).drop('listing_location', axis=1)"
   ]
  },
  {
   "cell_type": "code",
   "execution_count": 88,
   "id": "a7e7b994-6ef7-46f7-a598-440132aa1a81",
   "metadata": {},
   "outputs": [],
   "source": [
    "train[['location_chicago', 'location_kauai']] = train[['location_chicago', 'location_kauai']].astype(int)\n",
    "test[['location_chicago', 'location_kauai']] = test[['location_chicago', 'location_kauai']].astype(int)"
   ]
  },
  {
   "cell_type": "code",
   "execution_count": 90,
   "id": "69e2928d-ba7f-4555-ab32-a5be880768c0",
   "metadata": {},
   "outputs": [
    {
     "data": {
      "text/plain": [
       "id                                                 0\n",
       "host_response_rate                               557\n",
       "host_acceptance_rate                             331\n",
       "host_listings_count                                3\n",
       "host_total_listings_count                          3\n",
       "host_identity_verified                             0\n",
       "latitude                                           0\n",
       "longitude                                          0\n",
       "accommodates                                       0\n",
       "bathrooms                                          3\n",
       "bedrooms                                          23\n",
       "beds                                              10\n",
       "price                                              0\n",
       "minimum_nights                                     0\n",
       "maximum_nights                                     0\n",
       "maximum_minimum_nights                             0\n",
       "availability_365                                   0\n",
       "number_of_reviews                                  0\n",
       "number_of_reviews_ltm                              0\n",
       "number_of_reviews_l30d                             0\n",
       "review_scores_rating                            1810\n",
       "review_scores_accuracy                          1810\n",
       "review_scores_cleanliness                       1810\n",
       "review_scores_checkin                           1810\n",
       "review_scores_communication                     1810\n",
       "review_scores_location                          1810\n",
       "review_scores_value                             1810\n",
       "instant_bookable                                   0\n",
       "calculated_host_listings_count_entire_homes        0\n",
       "calculated_host_listings_count_private_rooms       0\n",
       "calculated_host_listings_count_shared_rooms        0\n",
       "reviews_per_month                               1810\n",
       "is_entire_place                                    0\n",
       "luxury_description                                 0\n",
       "location_chicago                                   0\n",
       "location_kauai                                     0\n",
       "dtype: int64"
      ]
     },
     "execution_count": 90,
     "metadata": {},
     "output_type": "execute_result"
    }
   ],
   "source": [
    "train.isna().sum()"
   ]
  },
  {
   "cell_type": "code",
   "execution_count": 92,
   "id": "6526742f-041a-4995-a48a-13874f612043",
   "metadata": {},
   "outputs": [],
   "source": [
    "# IMPUTE MISSING VALS\n",
    "\n",
    "# fit to train data, transform train and test data\n",
    "\n",
    "imputer = KNNImputer(n_neighbors=3)\n",
    "\n",
    "train_impute_cols = [col for col in train.columns if col not in ['id', 'price']]\n",
    "\n",
    "#scale\n",
    "scaler = MinMaxScaler()\n",
    "scaled_train_array = scaler.fit_transform(train[train_impute_cols])\n",
    "scaled_train_df = pd.DataFrame(scaled_train_array, columns=train_impute_cols, index=train.index)\n",
    "\n",
    "train_imputed_arr = imputer.fit_transform(scaled_train_df) # first scale\n",
    "train_unscaled_data = scaler.inverse_transform(train_imputed_arr) # then undo scale\n",
    "\n",
    "train_imputed = train.copy()\n",
    "train_imputed[train_impute_cols] = pd.DataFrame(train_unscaled_data, columns=train_impute_cols, index=train.index)\n",
    "\n",
    "\n",
    "# test - use same scale\n",
    "test_impute_cols = [col for col in test.columns if col != 'id']\n",
    "\n",
    "\n",
    "scaled_test_array = scaler.transform(test[test_impute_cols])\n",
    "scaled_test_df = pd.DataFrame(scaled_test_array, columns=test_impute_cols, index=test.index)\n",
    "\n",
    "test_imputed_arr = imputer.transform(scaled_test_df)\n",
    "test_unscaled_data = scaler.inverse_transform(test_imputed_arr)\n",
    "\n",
    "test_imputed = test.copy()\n",
    "test_imputed[test_impute_cols] = pd.DataFrame(test_unscaled_data, columns = test_impute_cols, index=test.index)"
   ]
  },
  {
   "cell_type": "code",
   "execution_count": 94,
   "id": "9be4968d-7176-4e43-b26a-94a52898f682",
   "metadata": {},
   "outputs": [],
   "source": [
    "# slice predictors - no id !! but save for predictions\n",
    "\n",
    "X_train = train_imputed.drop(columns=['price','id'])\n",
    "y_train = np.log(train_imputed['price'])\n",
    "\n",
    "X_test = test_imputed.drop(columns=['id'])\n",
    "test_ids = test_imputed['id']\n",
    "\n"
   ]
  },
  {
   "cell_type": "code",
   "execution_count": 96,
   "id": "1071eae2-9655-4074-a7c8-9ec5ed96ee3e",
   "metadata": {},
   "outputs": [],
   "source": [
    "# scale\n",
    "\n",
    "scaler = StandardScaler()\n",
    "X_train_scaled = scaler.fit_transform(X_train)\n",
    "X_test_scaled = scaler.transform(X_test)"
   ]
  },
  {
   "cell_type": "markdown",
   "id": "1078e4fa-9a22-44ca-b1e3-944f25dac70a",
   "metadata": {},
   "source": [
    "## 3) Machine Learning Model"
   ]
  },
  {
   "cell_type": "markdown",
   "id": "8fa5c8b4-9aab-4022-8561-5f8bf964cab3",
   "metadata": {},
   "source": [
    "- This section is required to train the **already tuned** model and obtain the test predictions (or prediction probabilities) with it.\n",
    "- As written in the instructions, your code must not have any runtime issues, so **do NOT include your grid search here!** You will still need to tune your model to pass the thresholds. However, you need to keep that as your personal work and should NOT include the grid search here."
   ]
  },
  {
   "cell_type": "code",
   "execution_count": 100,
   "id": "35a7dc52-a389-4fb4-b8f8-ba53e9eed425",
   "metadata": {},
   "outputs": [],
   "source": [
    "model = KNeighborsRegressor(n_neighbors=15, weights='distance', metric='manhattan')\n",
    "\n",
    "model.fit(X_train_scaled, y_train)\n",
    "\n",
    "y_preds = np.exp(model.predict(X_test_scaled))"
   ]
  },
  {
   "cell_type": "markdown",
   "id": "2dc2d1c1-edd2-428c-9944-2bafc8f9291b",
   "metadata": {},
   "source": [
    "## 4) Exporting the Predictions"
   ]
  },
  {
   "cell_type": "markdown",
   "id": "d4e92cdc-e3e0-423a-a248-cf3b1cf99f68",
   "metadata": {},
   "source": [
    "Include the code that (1) puts the predictions in the format that Kaggle understands and (2) exports it as a csv file."
   ]
  },
  {
   "cell_type": "code",
   "execution_count": 102,
   "id": "c29416a6-4ae8-4521-8842-c83b9b4097d1",
   "metadata": {},
   "outputs": [],
   "source": [
    "submission = pd.DataFrame({\n",
    "    'id': test_ids,        \n",
    "    'predicted': y_preds   \n",
    "})\n",
    "\n",
    "submission.to_csv('final_regression_submission1.csv', index=False)"
   ]
  },
  {
   "cell_type": "code",
   "execution_count": null,
   "id": "30fe4410-0d31-4eda-9315-7ee5b43b00e4",
   "metadata": {},
   "outputs": [],
   "source": []
  }
 ],
 "metadata": {
  "kernelspec": {
   "display_name": "Python 3 (ipykernel)",
   "language": "python",
   "name": "python3"
  },
  "language_info": {
   "codemirror_mode": {
    "name": "ipython",
    "version": 3
   },
   "file_extension": ".py",
   "mimetype": "text/x-python",
   "name": "python",
   "nbconvert_exporter": "python",
   "pygments_lexer": "ipython3",
   "version": "3.12.2"
  }
 },
 "nbformat": 4,
 "nbformat_minor": 5
}
